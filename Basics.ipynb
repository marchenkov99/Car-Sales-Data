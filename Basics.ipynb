{
 "cells": [
  {
   "cell_type": "markdown",
   "metadata": {
    "collapsed": true
   },
   "source": [
    "## Exploring Ebay Car Sales Data\n",
    "`dateCrawled` - *When this ad was first crawled. All field-values are taken from this date*.\n",
    "\n",
    "`name` - *Name of the car*.\n",
    "\n",
    "`seller` - *Whether the seller is private or a dealer*.\n",
    "\n",
    "`offerType` - *The type of listing*\n",
    "\n",
    "`price` - *The price on the ad to sell the car*.\n",
    "\n",
    "`abtest` - *Whether the listing is included in an A/B test*.\n",
    "\n",
    "`vehicleType` - *The vehicle Type*.\n",
    "\n",
    "`yearOfRegistration` - *The year in which which year the car was first registered*.\n",
    "\n",
    "`gearbox` - *The transmission type*.\n",
    "\n",
    "`powerPS` - *The power of the car in PS*.\n",
    "\n",
    "`model` - *The car model name*.\n",
    "\n",
    "`kilometer` - *How many kilometers the car has driven*.\n",
    "\n",
    "`monthOfRegistration` - *The month in which which year the car was first registered*.\n",
    "\n",
    "`fuelType` - *What type of fuel the car uses*.\n",
    "\n",
    "`brand` - *The brand of the car*.\n",
    "\n",
    "`notRepairedDamage` - *If the car has a damage which is not yet repaired*.\n",
    "\n",
    "`dateCreated` - *The date on which the eBay listing was created*.\n",
    "\n",
    "`nrOfPictures` - *The number of pictures in the ad*.\n",
    "\n",
    "`postalCode` - *The postal code for the location of the vehicle*.\n",
    "\n",
    "`lastSeenOnline` - *When the crawler saw this ad last online*."
   ]
  },
  {
   "cell_type": "code",
   "execution_count": 2,
   "metadata": {
    "collapsed": true
   },
   "outputs": [],
   "source": [
    "import numpy as np\n",
    "import pandas as pd\n",
    "import datetime\n",
    "\n",
    "autos = pd.read_csv(\"autos.csv\", encoding=\"Latin-1\")"
   ]
  },
  {
   "cell_type": "markdown",
   "metadata": {},
   "source": [
    "### Checking data for null values for cleaning"
   ]
  },
  {
   "cell_type": "code",
   "execution_count": 3,
   "metadata": {
    "collapsed": false
   },
   "outputs": [
    {
     "name": "stdout",
     "output_type": "stream",
     "text": [
      "<class 'pandas.core.frame.DataFrame'>\n",
      "RangeIndex: 50000 entries, 0 to 49999\n",
      "Data columns (total 20 columns):\n",
      "dateCrawled            50000 non-null object\n",
      "name                   50000 non-null object\n",
      "seller                 50000 non-null object\n",
      "offerType              50000 non-null object\n",
      "price                  50000 non-null object\n",
      "abtest                 50000 non-null object\n",
      "vehicleType            44905 non-null object\n",
      "yearOfRegistration     50000 non-null int64\n",
      "gearbox                47320 non-null object\n",
      "powerPS                50000 non-null int64\n",
      "model                  47242 non-null object\n",
      "odometer               50000 non-null object\n",
      "monthOfRegistration    50000 non-null int64\n",
      "fuelType               45518 non-null object\n",
      "brand                  50000 non-null object\n",
      "notRepairedDamage      40171 non-null object\n",
      "dateCreated            50000 non-null object\n",
      "nrOfPictures           50000 non-null int64\n",
      "postalCode             50000 non-null int64\n",
      "lastSeen               50000 non-null object\n",
      "dtypes: int64(5), object(15)\n",
      "memory usage: 7.6+ MB\n"
     ]
    }
   ],
   "source": [
    "autos.info()"
   ]
  },
  {
   "cell_type": "markdown",
   "metadata": {},
   "source": [
    "### Converting the column names from camelcase to snakecase"
   ]
  },
  {
   "cell_type": "code",
   "execution_count": 4,
   "metadata": {
    "collapsed": false
   },
   "outputs": [
    {
     "name": "stdout",
     "output_type": "stream",
     "text": [
      "<class 'pandas.core.frame.DataFrame'>\n",
      "RangeIndex: 50000 entries, 0 to 49999\n",
      "Data columns (total 20 columns):\n",
      "name                  50000 non-null object\n",
      "seller                50000 non-null object\n",
      "price                 50000 non-null object\n",
      "abtest                50000 non-null object\n",
      "gearbox               47320 non-null object\n",
      "model                 47242 non-null object\n",
      "odometer              50000 non-null object\n",
      "brand                 50000 non-null object\n",
      "registration_year     50000 non-null int64\n",
      "registration_month    50000 non-null int64\n",
      "unrepaired_damage     40171 non-null object\n",
      "ad_created            50000 non-null object\n",
      "ad_crawled            50000 non-null object\n",
      "type_offer            50000 non-null object\n",
      "type_vehicle          44905 non-null object\n",
      "power_PS              50000 non-null int64\n",
      "type_fuel             45518 non-null object\n",
      "picture_num           50000 non-null int64\n",
      "postal_code           50000 non-null int64\n",
      "last_online           50000 non-null object\n",
      "dtypes: int64(5), object(15)\n",
      "memory usage: 7.6+ MB\n"
     ]
    },
    {
     "data": {
      "text/plain": [
       "Index(['name', 'seller', 'price', 'abtest', 'gearbox', 'model', 'odometer',\n",
       "       'brand', 'registration_year', 'registration_month', 'unrepaired_damage',\n",
       "       'ad_created', 'ad_crawled', 'type_offer', 'type_vehicle', 'power_PS',\n",
       "       'type_fuel', 'picture_num', 'postal_code', 'last_online'],\n",
       "      dtype='object')"
      ]
     },
     "execution_count": 4,
     "metadata": {},
     "output_type": "execute_result"
    }
   ],
   "source": [
    "autos[\"registration_year\"] = autos[\"yearOfRegistration\"]\n",
    "autos[\"registration_month\"] = autos[\"monthOfRegistration\"]\n",
    "autos[\"unrepaired_damage\"] = autos[\"notRepairedDamage\"]\n",
    "autos[\"ad_created\"] = autos[\"dateCreated\"]\n",
    "autos[\"ad_crawled\"] = autos[\"dateCrawled\"]\n",
    "autos[\"type_offer\"] = autos[\"offerType\"]\n",
    "autos[\"type_vehicle\"] = autos[\"vehicleType\"]\n",
    "autos[\"power_PS\"] = autos[\"powerPS\"]\n",
    "autos[\"type_fuel\"] = autos[\"fuelType\"]\n",
    "autos[\"picture_num\"] = autos[\"nrOfPictures\"]\n",
    "autos[\"postal_code\"] = autos[\"postalCode\"]\n",
    "autos[\"last_online\"] = autos[\"lastSeen\"]\n",
    "\n",
    "autos.drop([\"yearOfRegistration\",\"monthOfRegistration\",\"notRepairedDamage\", \"dateCreated\", \"dateCrawled\",\"offerType\",\"vehicleType\",\"powerPS\",\"fuelType\",\"nrOfPictures\",\"postalCode\",\"lastSeen\"], axis=1, inplace=True)\n",
    "autos.columns = [c.strip() for c in autos.columns]\n",
    "\n",
    "autos.info()\n",
    "autos.head()\n",
    "autos.columns"
   ]
  },
  {
   "cell_type": "markdown",
   "metadata": {},
   "source": [
    "From column \"`price`\" we can delete character '$' and convert to integer.\n",
    "\n",
    "\"`odometer`\" - delete 'km' and convert to integer.\n",
    "\n",
    "\"`ad_created`\", \"`ad_crawled`\", \"`last_online`\" - convert to datetime.\n",
    "\n",
    "\"`gearbox`\", \"`model`\", \"`unrepaired_damage`\", \"`type_vehicle`\", \"`type_fuel`\" - need more investigation."
   ]
  },
  {
   "cell_type": "code",
   "execution_count": 5,
   "metadata": {
    "collapsed": false
   },
   "outputs": [
    {
     "data": {
      "text/html": [
       "<div>\n",
       "<style scoped>\n",
       "    .dataframe tbody tr th:only-of-type {\n",
       "        vertical-align: middle;\n",
       "    }\n",
       "\n",
       "    .dataframe tbody tr th {\n",
       "        vertical-align: top;\n",
       "    }\n",
       "\n",
       "    .dataframe thead th {\n",
       "        text-align: right;\n",
       "    }\n",
       "</style>\n",
       "<table border=\"1\" class=\"dataframe\">\n",
       "  <thead>\n",
       "    <tr style=\"text-align: right;\">\n",
       "      <th></th>\n",
       "      <th>name</th>\n",
       "      <th>seller</th>\n",
       "      <th>price</th>\n",
       "      <th>abtest</th>\n",
       "      <th>gearbox</th>\n",
       "      <th>model</th>\n",
       "      <th>odometer</th>\n",
       "      <th>brand</th>\n",
       "      <th>registration_year</th>\n",
       "      <th>registration_month</th>\n",
       "      <th>unrepaired_damage</th>\n",
       "      <th>ad_created</th>\n",
       "      <th>ad_crawled</th>\n",
       "      <th>type_offer</th>\n",
       "      <th>type_vehicle</th>\n",
       "      <th>power_PS</th>\n",
       "      <th>type_fuel</th>\n",
       "      <th>picture_num</th>\n",
       "      <th>postal_code</th>\n",
       "      <th>last_online</th>\n",
       "    </tr>\n",
       "  </thead>\n",
       "  <tbody>\n",
       "    <tr>\n",
       "      <th>count</th>\n",
       "      <td>50000</td>\n",
       "      <td>50000</td>\n",
       "      <td>50000</td>\n",
       "      <td>50000</td>\n",
       "      <td>47320</td>\n",
       "      <td>47242</td>\n",
       "      <td>50000</td>\n",
       "      <td>50000</td>\n",
       "      <td>50000.000000</td>\n",
       "      <td>50000.000000</td>\n",
       "      <td>40171</td>\n",
       "      <td>50000</td>\n",
       "      <td>50000</td>\n",
       "      <td>50000</td>\n",
       "      <td>44905</td>\n",
       "      <td>50000.000000</td>\n",
       "      <td>45518</td>\n",
       "      <td>50000.0</td>\n",
       "      <td>50000.000000</td>\n",
       "      <td>50000</td>\n",
       "    </tr>\n",
       "    <tr>\n",
       "      <th>unique</th>\n",
       "      <td>38754</td>\n",
       "      <td>2</td>\n",
       "      <td>2357</td>\n",
       "      <td>2</td>\n",
       "      <td>2</td>\n",
       "      <td>245</td>\n",
       "      <td>13</td>\n",
       "      <td>40</td>\n",
       "      <td>NaN</td>\n",
       "      <td>NaN</td>\n",
       "      <td>2</td>\n",
       "      <td>76</td>\n",
       "      <td>48213</td>\n",
       "      <td>2</td>\n",
       "      <td>8</td>\n",
       "      <td>NaN</td>\n",
       "      <td>7</td>\n",
       "      <td>NaN</td>\n",
       "      <td>NaN</td>\n",
       "      <td>39481</td>\n",
       "    </tr>\n",
       "    <tr>\n",
       "      <th>top</th>\n",
       "      <td>Ford_Fiesta</td>\n",
       "      <td>privat</td>\n",
       "      <td>$0</td>\n",
       "      <td>test</td>\n",
       "      <td>manuell</td>\n",
       "      <td>golf</td>\n",
       "      <td>150,000km</td>\n",
       "      <td>volkswagen</td>\n",
       "      <td>NaN</td>\n",
       "      <td>NaN</td>\n",
       "      <td>nein</td>\n",
       "      <td>2016-04-03 00:00:00</td>\n",
       "      <td>2016-03-22 09:51:06</td>\n",
       "      <td>Angebot</td>\n",
       "      <td>limousine</td>\n",
       "      <td>NaN</td>\n",
       "      <td>benzin</td>\n",
       "      <td>NaN</td>\n",
       "      <td>NaN</td>\n",
       "      <td>2016-04-07 06:17:27</td>\n",
       "    </tr>\n",
       "    <tr>\n",
       "      <th>freq</th>\n",
       "      <td>78</td>\n",
       "      <td>49999</td>\n",
       "      <td>1421</td>\n",
       "      <td>25756</td>\n",
       "      <td>36993</td>\n",
       "      <td>4024</td>\n",
       "      <td>32424</td>\n",
       "      <td>10687</td>\n",
       "      <td>NaN</td>\n",
       "      <td>NaN</td>\n",
       "      <td>35232</td>\n",
       "      <td>1946</td>\n",
       "      <td>3</td>\n",
       "      <td>49999</td>\n",
       "      <td>12859</td>\n",
       "      <td>NaN</td>\n",
       "      <td>30107</td>\n",
       "      <td>NaN</td>\n",
       "      <td>NaN</td>\n",
       "      <td>8</td>\n",
       "    </tr>\n",
       "    <tr>\n",
       "      <th>mean</th>\n",
       "      <td>NaN</td>\n",
       "      <td>NaN</td>\n",
       "      <td>NaN</td>\n",
       "      <td>NaN</td>\n",
       "      <td>NaN</td>\n",
       "      <td>NaN</td>\n",
       "      <td>NaN</td>\n",
       "      <td>NaN</td>\n",
       "      <td>2005.073280</td>\n",
       "      <td>5.723360</td>\n",
       "      <td>NaN</td>\n",
       "      <td>NaN</td>\n",
       "      <td>NaN</td>\n",
       "      <td>NaN</td>\n",
       "      <td>NaN</td>\n",
       "      <td>116.355920</td>\n",
       "      <td>NaN</td>\n",
       "      <td>0.0</td>\n",
       "      <td>50813.627300</td>\n",
       "      <td>NaN</td>\n",
       "    </tr>\n",
       "    <tr>\n",
       "      <th>std</th>\n",
       "      <td>NaN</td>\n",
       "      <td>NaN</td>\n",
       "      <td>NaN</td>\n",
       "      <td>NaN</td>\n",
       "      <td>NaN</td>\n",
       "      <td>NaN</td>\n",
       "      <td>NaN</td>\n",
       "      <td>NaN</td>\n",
       "      <td>105.712813</td>\n",
       "      <td>3.711984</td>\n",
       "      <td>NaN</td>\n",
       "      <td>NaN</td>\n",
       "      <td>NaN</td>\n",
       "      <td>NaN</td>\n",
       "      <td>NaN</td>\n",
       "      <td>209.216627</td>\n",
       "      <td>NaN</td>\n",
       "      <td>0.0</td>\n",
       "      <td>25779.747957</td>\n",
       "      <td>NaN</td>\n",
       "    </tr>\n",
       "    <tr>\n",
       "      <th>min</th>\n",
       "      <td>NaN</td>\n",
       "      <td>NaN</td>\n",
       "      <td>NaN</td>\n",
       "      <td>NaN</td>\n",
       "      <td>NaN</td>\n",
       "      <td>NaN</td>\n",
       "      <td>NaN</td>\n",
       "      <td>NaN</td>\n",
       "      <td>1000.000000</td>\n",
       "      <td>0.000000</td>\n",
       "      <td>NaN</td>\n",
       "      <td>NaN</td>\n",
       "      <td>NaN</td>\n",
       "      <td>NaN</td>\n",
       "      <td>NaN</td>\n",
       "      <td>0.000000</td>\n",
       "      <td>NaN</td>\n",
       "      <td>0.0</td>\n",
       "      <td>1067.000000</td>\n",
       "      <td>NaN</td>\n",
       "    </tr>\n",
       "    <tr>\n",
       "      <th>25%</th>\n",
       "      <td>NaN</td>\n",
       "      <td>NaN</td>\n",
       "      <td>NaN</td>\n",
       "      <td>NaN</td>\n",
       "      <td>NaN</td>\n",
       "      <td>NaN</td>\n",
       "      <td>NaN</td>\n",
       "      <td>NaN</td>\n",
       "      <td>1999.000000</td>\n",
       "      <td>3.000000</td>\n",
       "      <td>NaN</td>\n",
       "      <td>NaN</td>\n",
       "      <td>NaN</td>\n",
       "      <td>NaN</td>\n",
       "      <td>NaN</td>\n",
       "      <td>70.000000</td>\n",
       "      <td>NaN</td>\n",
       "      <td>0.0</td>\n",
       "      <td>30451.000000</td>\n",
       "      <td>NaN</td>\n",
       "    </tr>\n",
       "    <tr>\n",
       "      <th>50%</th>\n",
       "      <td>NaN</td>\n",
       "      <td>NaN</td>\n",
       "      <td>NaN</td>\n",
       "      <td>NaN</td>\n",
       "      <td>NaN</td>\n",
       "      <td>NaN</td>\n",
       "      <td>NaN</td>\n",
       "      <td>NaN</td>\n",
       "      <td>2003.000000</td>\n",
       "      <td>6.000000</td>\n",
       "      <td>NaN</td>\n",
       "      <td>NaN</td>\n",
       "      <td>NaN</td>\n",
       "      <td>NaN</td>\n",
       "      <td>NaN</td>\n",
       "      <td>105.000000</td>\n",
       "      <td>NaN</td>\n",
       "      <td>0.0</td>\n",
       "      <td>49577.000000</td>\n",
       "      <td>NaN</td>\n",
       "    </tr>\n",
       "    <tr>\n",
       "      <th>75%</th>\n",
       "      <td>NaN</td>\n",
       "      <td>NaN</td>\n",
       "      <td>NaN</td>\n",
       "      <td>NaN</td>\n",
       "      <td>NaN</td>\n",
       "      <td>NaN</td>\n",
       "      <td>NaN</td>\n",
       "      <td>NaN</td>\n",
       "      <td>2008.000000</td>\n",
       "      <td>9.000000</td>\n",
       "      <td>NaN</td>\n",
       "      <td>NaN</td>\n",
       "      <td>NaN</td>\n",
       "      <td>NaN</td>\n",
       "      <td>NaN</td>\n",
       "      <td>150.000000</td>\n",
       "      <td>NaN</td>\n",
       "      <td>0.0</td>\n",
       "      <td>71540.000000</td>\n",
       "      <td>NaN</td>\n",
       "    </tr>\n",
       "    <tr>\n",
       "      <th>max</th>\n",
       "      <td>NaN</td>\n",
       "      <td>NaN</td>\n",
       "      <td>NaN</td>\n",
       "      <td>NaN</td>\n",
       "      <td>NaN</td>\n",
       "      <td>NaN</td>\n",
       "      <td>NaN</td>\n",
       "      <td>NaN</td>\n",
       "      <td>9999.000000</td>\n",
       "      <td>12.000000</td>\n",
       "      <td>NaN</td>\n",
       "      <td>NaN</td>\n",
       "      <td>NaN</td>\n",
       "      <td>NaN</td>\n",
       "      <td>NaN</td>\n",
       "      <td>17700.000000</td>\n",
       "      <td>NaN</td>\n",
       "      <td>0.0</td>\n",
       "      <td>99998.000000</td>\n",
       "      <td>NaN</td>\n",
       "    </tr>\n",
       "  </tbody>\n",
       "</table>\n",
       "</div>"
      ],
      "text/plain": [
       "               name  seller  price abtest  gearbox  model   odometer  \\\n",
       "count         50000   50000  50000  50000    47320  47242      50000   \n",
       "unique        38754       2   2357      2        2    245         13   \n",
       "top     Ford_Fiesta  privat     $0   test  manuell   golf  150,000km   \n",
       "freq             78   49999   1421  25756    36993   4024      32424   \n",
       "mean            NaN     NaN    NaN    NaN      NaN    NaN        NaN   \n",
       "std             NaN     NaN    NaN    NaN      NaN    NaN        NaN   \n",
       "min             NaN     NaN    NaN    NaN      NaN    NaN        NaN   \n",
       "25%             NaN     NaN    NaN    NaN      NaN    NaN        NaN   \n",
       "50%             NaN     NaN    NaN    NaN      NaN    NaN        NaN   \n",
       "75%             NaN     NaN    NaN    NaN      NaN    NaN        NaN   \n",
       "max             NaN     NaN    NaN    NaN      NaN    NaN        NaN   \n",
       "\n",
       "             brand  registration_year  registration_month unrepaired_damage  \\\n",
       "count        50000       50000.000000        50000.000000             40171   \n",
       "unique          40                NaN                 NaN                 2   \n",
       "top     volkswagen                NaN                 NaN              nein   \n",
       "freq         10687                NaN                 NaN             35232   \n",
       "mean           NaN        2005.073280            5.723360               NaN   \n",
       "std            NaN         105.712813            3.711984               NaN   \n",
       "min            NaN        1000.000000            0.000000               NaN   \n",
       "25%            NaN        1999.000000            3.000000               NaN   \n",
       "50%            NaN        2003.000000            6.000000               NaN   \n",
       "75%            NaN        2008.000000            9.000000               NaN   \n",
       "max            NaN        9999.000000           12.000000               NaN   \n",
       "\n",
       "                 ad_created           ad_crawled type_offer type_vehicle  \\\n",
       "count                 50000                50000      50000        44905   \n",
       "unique                   76                48213          2            8   \n",
       "top     2016-04-03 00:00:00  2016-03-22 09:51:06    Angebot    limousine   \n",
       "freq                   1946                    3      49999        12859   \n",
       "mean                    NaN                  NaN        NaN          NaN   \n",
       "std                     NaN                  NaN        NaN          NaN   \n",
       "min                     NaN                  NaN        NaN          NaN   \n",
       "25%                     NaN                  NaN        NaN          NaN   \n",
       "50%                     NaN                  NaN        NaN          NaN   \n",
       "75%                     NaN                  NaN        NaN          NaN   \n",
       "max                     NaN                  NaN        NaN          NaN   \n",
       "\n",
       "            power_PS type_fuel  picture_num   postal_code          last_online  \n",
       "count   50000.000000     45518      50000.0  50000.000000                50000  \n",
       "unique           NaN         7          NaN           NaN                39481  \n",
       "top              NaN    benzin          NaN           NaN  2016-04-07 06:17:27  \n",
       "freq             NaN     30107          NaN           NaN                    8  \n",
       "mean      116.355920       NaN          0.0  50813.627300                  NaN  \n",
       "std       209.216627       NaN          0.0  25779.747957                  NaN  \n",
       "min         0.000000       NaN          0.0   1067.000000                  NaN  \n",
       "25%        70.000000       NaN          0.0  30451.000000                  NaN  \n",
       "50%       105.000000       NaN          0.0  49577.000000                  NaN  \n",
       "75%       150.000000       NaN          0.0  71540.000000                  NaN  \n",
       "max     17700.000000       NaN          0.0  99998.000000                  NaN  "
      ]
     },
     "execution_count": 5,
     "metadata": {},
     "output_type": "execute_result"
    }
   ],
   "source": [
    "autos.describe(include='all')"
   ]
  },
  {
   "cell_type": "code",
   "execution_count": 6,
   "metadata": {
    "collapsed": false
   },
   "outputs": [],
   "source": [
    "autos[\"price\"] = (autos[\"price\"]\n",
    "                          .str.replace(\"$\",\"\")\n",
    "                          .str.replace(\",\",\"\")\n",
    "                          .astype(int)\n",
    "                          )\n",
    "autos[\"odometer\"] = (autos[\"odometer\"]\n",
    "                         .str.replace(\"km\",\"\")\n",
    "                         .str.replace(\",\",\"\")\n",
    "                         .astype(int)\n",
    "                        )\n",
    "autos.rename({\"odometer\": \"odometer_km\"}, axis=1, inplace=True)"
   ]
  },
  {
   "cell_type": "markdown",
   "metadata": {},
   "source": [
    "### `odometer_km` and `price` info"
   ]
  },
  {
   "cell_type": "code",
   "execution_count": 7,
   "metadata": {
    "collapsed": false
   },
   "outputs": [
    {
     "name": "stdout",
     "output_type": "stream",
     "text": [
      "(13,)\n",
      "count     50000.000000\n",
      "mean     125732.700000\n",
      "std       40042.211706\n",
      "min        5000.000000\n",
      "25%      125000.000000\n",
      "50%      150000.000000\n",
      "75%      150000.000000\n",
      "max      150000.000000\n",
      "Name: odometer_km, dtype: float64\n",
      "150000    32424\n",
      "125000     5170\n",
      "100000     2169\n",
      "90000      1757\n",
      "80000      1436\n",
      "70000      1230\n",
      "60000      1164\n",
      "50000      1027\n",
      "5000        967\n",
      "40000       819\n",
      "Name: odometer_km, dtype: int64\n",
      "(2357,)\n",
      "count    5.000000e+04\n",
      "mean     9.840044e+03\n",
      "std      4.811044e+05\n",
      "min      0.000000e+00\n",
      "25%      1.100000e+03\n",
      "50%      2.950000e+03\n",
      "75%      7.200000e+03\n",
      "max      1.000000e+08\n",
      "Name: price, dtype: float64\n",
      "0       1421\n",
      "500      781\n",
      "1500     734\n",
      "2500     643\n",
      "1000     639\n",
      "1200     639\n",
      "600      531\n",
      "800      498\n",
      "3500     498\n",
      "2000     460\n",
      "Name: price, dtype: int64\n"
     ]
    }
   ],
   "source": [
    "for col in autos[\"odometer_km\"], autos[\"price\"]:\n",
    "    print(col.unique().shape)\n",
    "    print(col.describe())\n",
    "    print(col.value_counts().head(10))"
   ]
  },
  {
   "cell_type": "code",
   "execution_count": 9,
   "metadata": {
    "collapsed": false
   },
   "outputs": [
    {
     "data": {
      "text/plain": [
       "2016-03-05    0.02538\n",
       "2016-03-06    0.01394\n",
       "2016-03-07    0.03596\n",
       "2016-03-08    0.03330\n",
       "2016-03-09    0.03322\n",
       "2016-03-10    0.03212\n",
       "2016-03-11    0.03248\n",
       "2016-03-12    0.03678\n",
       "2016-03-13    0.01556\n",
       "2016-03-14    0.03662\n",
       "2016-03-15    0.03398\n",
       "2016-03-16    0.02950\n",
       "2016-03-17    0.03152\n",
       "2016-03-18    0.01306\n",
       "2016-03-19    0.03490\n",
       "2016-03-20    0.03782\n",
       "2016-03-21    0.03752\n",
       "2016-03-22    0.03294\n",
       "2016-03-23    0.03238\n",
       "2016-03-24    0.02910\n",
       "2016-03-25    0.03174\n",
       "2016-03-26    0.03248\n",
       "2016-03-27    0.03104\n",
       "2016-03-28    0.03484\n",
       "2016-03-29    0.03418\n",
       "2016-03-30    0.03362\n",
       "2016-03-31    0.03192\n",
       "2016-04-01    0.03380\n",
       "2016-04-02    0.03540\n",
       "2016-04-03    0.03868\n",
       "2016-04-04    0.03652\n",
       "2016-04-05    0.01310\n",
       "2016-04-06    0.00318\n",
       "2016-04-07    0.00142\n",
       "Name: ad_crawled, dtype: float64"
      ]
     },
     "execution_count": 9,
     "metadata": {},
     "output_type": "execute_result"
    }
   ],
   "source": [
    "(autos[\"ad_crawled\"]\n",
    "        .str[:10]\n",
    "        .value_counts(normalize=True, dropna=False)\n",
    "        .sort_index()\n",
    "        )"
   ]
  },
  {
   "cell_type": "code",
   "execution_count": 8,
   "metadata": {
    "collapsed": false
   },
   "outputs": [
    {
     "data": {
      "text/plain": [
       "2016-04-07    0.00142\n",
       "2016-04-06    0.00318\n",
       "2016-03-18    0.01306\n",
       "2016-04-05    0.01310\n",
       "2016-03-06    0.01394\n",
       "2016-03-13    0.01556\n",
       "2016-03-05    0.02538\n",
       "2016-03-24    0.02910\n",
       "2016-03-16    0.02950\n",
       "2016-03-27    0.03104\n",
       "2016-03-17    0.03152\n",
       "2016-03-25    0.03174\n",
       "2016-03-31    0.03192\n",
       "2016-03-10    0.03212\n",
       "2016-03-23    0.03238\n",
       "2016-03-26    0.03248\n",
       "2016-03-11    0.03248\n",
       "2016-03-22    0.03294\n",
       "2016-03-09    0.03322\n",
       "2016-03-08    0.03330\n",
       "2016-03-30    0.03362\n",
       "2016-04-01    0.03380\n",
       "2016-03-15    0.03398\n",
       "2016-03-29    0.03418\n",
       "2016-03-28    0.03484\n",
       "2016-03-19    0.03490\n",
       "2016-04-02    0.03540\n",
       "2016-03-07    0.03596\n",
       "2016-04-04    0.03652\n",
       "2016-03-14    0.03662\n",
       "2016-03-12    0.03678\n",
       "2016-03-21    0.03752\n",
       "2016-03-20    0.03782\n",
       "2016-04-03    0.03868\n",
       "Name: ad_crawled, dtype: float64"
      ]
     },
     "execution_count": 8,
     "metadata": {},
     "output_type": "execute_result"
    }
   ],
   "source": [
    "(autos[\"ad_crawled\"]\n",
    "        .str[:10]\n",
    "        .value_counts(normalize=True, dropna=False)\n",
    "        .sort_values()\n",
    "        )"
   ]
  },
  {
   "cell_type": "markdown",
   "metadata": {},
   "source": [
    "Site was viewed every day from April to March about the same."
   ]
  },
  {
   "cell_type": "code",
   "execution_count": 9,
   "metadata": {
    "collapsed": false
   },
   "outputs": [
    {
     "data": {
      "text/plain": [
       "2015-06-11    0.00002\n",
       "2015-08-10    0.00002\n",
       "2015-09-09    0.00002\n",
       "2015-11-10    0.00002\n",
       "2015-12-05    0.00002\n",
       "2015-12-30    0.00002\n",
       "2016-01-03    0.00002\n",
       "2016-01-07    0.00002\n",
       "2016-01-10    0.00004\n",
       "2016-01-13    0.00002\n",
       "2016-01-14    0.00002\n",
       "2016-01-16    0.00002\n",
       "2016-01-22    0.00002\n",
       "2016-01-27    0.00006\n",
       "2016-01-29    0.00002\n",
       "2016-02-01    0.00002\n",
       "2016-02-02    0.00004\n",
       "2016-02-05    0.00004\n",
       "2016-02-07    0.00002\n",
       "2016-02-08    0.00002\n",
       "2016-02-09    0.00004\n",
       "2016-02-11    0.00002\n",
       "2016-02-12    0.00006\n",
       "2016-02-14    0.00004\n",
       "2016-02-16    0.00002\n",
       "2016-02-17    0.00002\n",
       "2016-02-18    0.00004\n",
       "2016-02-19    0.00006\n",
       "2016-02-20    0.00004\n",
       "2016-02-21    0.00006\n",
       "               ...   \n",
       "2016-03-09    0.03324\n",
       "2016-03-10    0.03186\n",
       "2016-03-11    0.03278\n",
       "2016-03-12    0.03662\n",
       "2016-03-13    0.01692\n",
       "2016-03-14    0.03522\n",
       "2016-03-15    0.03374\n",
       "2016-03-16    0.03000\n",
       "2016-03-17    0.03120\n",
       "2016-03-18    0.01372\n",
       "2016-03-19    0.03384\n",
       "2016-03-20    0.03786\n",
       "2016-03-21    0.03772\n",
       "2016-03-22    0.03280\n",
       "2016-03-23    0.03218\n",
       "2016-03-24    0.02908\n",
       "2016-03-25    0.03188\n",
       "2016-03-26    0.03256\n",
       "2016-03-27    0.03090\n",
       "2016-03-28    0.03496\n",
       "2016-03-29    0.03414\n",
       "2016-03-30    0.03344\n",
       "2016-03-31    0.03192\n",
       "2016-04-01    0.03380\n",
       "2016-04-02    0.03508\n",
       "2016-04-03    0.03892\n",
       "2016-04-04    0.03688\n",
       "2016-04-05    0.01184\n",
       "2016-04-06    0.00326\n",
       "2016-04-07    0.00128\n",
       "Name: ad_created, Length: 76, dtype: float64"
      ]
     },
     "execution_count": 9,
     "metadata": {},
     "output_type": "execute_result"
    }
   ],
   "source": [
    "(autos[\"ad_created\"]\n",
    "        .str[:10]\n",
    "        .value_counts(normalize=True, dropna=False)\n",
    "        .sort_index()\n",
    "        )"
   ]
  },
  {
   "cell_type": "code",
   "execution_count": 10,
   "metadata": {
    "collapsed": false
   },
   "outputs": [
    {
     "data": {
      "text/plain": [
       "2016-02-16    0.00002\n",
       "2016-01-13    0.00002\n",
       "2016-02-22    0.00002\n",
       "2016-01-29    0.00002\n",
       "2016-02-11    0.00002\n",
       "2016-02-07    0.00002\n",
       "2016-01-14    0.00002\n",
       "2016-01-22    0.00002\n",
       "2016-02-08    0.00002\n",
       "2016-02-01    0.00002\n",
       "2015-11-10    0.00002\n",
       "2016-01-07    0.00002\n",
       "2015-06-11    0.00002\n",
       "2015-09-09    0.00002\n",
       "2016-02-17    0.00002\n",
       "2016-01-03    0.00002\n",
       "2016-01-16    0.00002\n",
       "2015-08-10    0.00002\n",
       "2015-12-05    0.00002\n",
       "2015-12-30    0.00002\n",
       "2016-02-24    0.00004\n",
       "2016-02-14    0.00004\n",
       "2016-02-02    0.00004\n",
       "2016-02-09    0.00004\n",
       "2016-02-05    0.00004\n",
       "2016-02-26    0.00004\n",
       "2016-02-18    0.00004\n",
       "2016-01-10    0.00004\n",
       "2016-02-20    0.00004\n",
       "2016-02-25    0.00006\n",
       "               ...   \n",
       "2016-03-06    0.01512\n",
       "2016-03-13    0.01692\n",
       "2016-03-05    0.02304\n",
       "2016-03-24    0.02908\n",
       "2016-03-16    0.03000\n",
       "2016-03-27    0.03090\n",
       "2016-03-17    0.03120\n",
       "2016-03-10    0.03186\n",
       "2016-03-25    0.03188\n",
       "2016-03-31    0.03192\n",
       "2016-03-23    0.03218\n",
       "2016-03-26    0.03256\n",
       "2016-03-11    0.03278\n",
       "2016-03-22    0.03280\n",
       "2016-03-09    0.03324\n",
       "2016-03-08    0.03334\n",
       "2016-03-30    0.03344\n",
       "2016-03-15    0.03374\n",
       "2016-04-01    0.03380\n",
       "2016-03-19    0.03384\n",
       "2016-03-29    0.03414\n",
       "2016-03-07    0.03474\n",
       "2016-03-28    0.03496\n",
       "2016-04-02    0.03508\n",
       "2016-03-14    0.03522\n",
       "2016-03-12    0.03662\n",
       "2016-04-04    0.03688\n",
       "2016-03-21    0.03772\n",
       "2016-03-20    0.03786\n",
       "2016-04-03    0.03892\n",
       "Name: ad_created, Length: 76, dtype: float64"
      ]
     },
     "execution_count": 10,
     "metadata": {},
     "output_type": "execute_result"
    }
   ],
   "source": [
    "(autos[\"ad_created\"]\n",
    "        .str[:10]\n",
    "        .value_counts(normalize=True, dropna=False)\n",
    "        .sort_values()\n",
    "        )"
   ]
  },
  {
   "cell_type": "markdown",
   "metadata": {},
   "source": [
    "Fresher ads have more views."
   ]
  },
  {
   "cell_type": "code",
   "execution_count": 11,
   "metadata": {
    "collapsed": false
   },
   "outputs": [
    {
     "data": {
      "text/plain": [
       "2016-03-05    0.00108\n",
       "2016-03-06    0.00442\n",
       "2016-03-07    0.00536\n",
       "2016-03-18    0.00742\n",
       "2016-03-08    0.00760\n",
       "2016-03-13    0.00898\n",
       "2016-03-09    0.00986\n",
       "2016-03-10    0.01076\n",
       "2016-03-11    0.01252\n",
       "2016-03-14    0.01280\n",
       "2016-03-19    0.01574\n",
       "2016-03-15    0.01588\n",
       "2016-03-27    0.01602\n",
       "2016-03-16    0.01644\n",
       "2016-03-26    0.01696\n",
       "2016-03-23    0.01858\n",
       "2016-03-25    0.01920\n",
       "2016-03-24    0.01956\n",
       "2016-03-20    0.02070\n",
       "2016-03-21    0.02074\n",
       "2016-03-28    0.02086\n",
       "2016-03-22    0.02158\n",
       "2016-03-29    0.02234\n",
       "2016-04-01    0.02310\n",
       "2016-03-12    0.02382\n",
       "2016-03-31    0.02384\n",
       "2016-04-04    0.02462\n",
       "2016-03-30    0.02484\n",
       "2016-04-02    0.02490\n",
       "2016-04-03    0.02536\n",
       "2016-03-17    0.02792\n",
       "2016-04-05    0.12428\n",
       "2016-04-07    0.13092\n",
       "2016-04-06    0.22100\n",
       "Name: last_online, dtype: float64"
      ]
     },
     "execution_count": 11,
     "metadata": {},
     "output_type": "execute_result"
    }
   ],
   "source": [
    "(autos[\"last_online\"]\n",
    "        .str[:10]\n",
    "        .value_counts(normalize=True, dropna=False)\n",
    "        .sort_values()\n",
    "        )"
   ]
  },
  {
   "cell_type": "markdown",
   "metadata": {},
   "source": [
    "The last three days contain a disproportionate amount of 'last seen' values. Given that these are 6-10x the values from the previous days, it's unlikely that there was a massive spike in sales, and more likely that these values are to do with the crawling period ending and don't indicate car sales."
   ]
  },
  {
   "cell_type": "code",
   "execution_count": 12,
   "metadata": {
    "collapsed": false
   },
   "outputs": [
    {
     "data": {
      "text/plain": [
       "count    50000.000000\n",
       "mean      2005.073280\n",
       "std        105.712813\n",
       "min       1000.000000\n",
       "25%       1999.000000\n",
       "50%       2003.000000\n",
       "75%       2008.000000\n",
       "max       9999.000000\n",
       "Name: registration_year, dtype: float64"
      ]
     },
     "execution_count": 12,
     "metadata": {},
     "output_type": "execute_result"
    }
   ],
   "source": [
    "autos[\"registration_year\"].describe()"
   ]
  },
  {
   "cell_type": "markdown",
   "metadata": {},
   "source": [
    "The year when the car was first registered was likely to be the year of release. The minimum value of \"1000\" is not reliable because the machines were invented later, the maximum value - \"9999\" - exceeds the current year."
   ]
  },
  {
   "cell_type": "markdown",
   "metadata": {},
   "source": [
    "Because a car can't be first registered before the listing was seen, any vehicle with a registration year above 2016 is definitely inaccurate. Determining the earliest valid year is more difficult. Realistically, it could be somewhere in the first few decades of the 1900s."
   ]
  },
  {
   "cell_type": "code",
   "execution_count": 13,
   "metadata": {
    "collapsed": false
   },
   "outputs": [
    {
     "data": {
      "text/plain": [
       "2000    0.108382\n",
       "2005    0.097428\n",
       "1999    0.096943\n",
       "2004    0.088444\n",
       "2003    0.088121\n",
       "2001    0.087346\n",
       "2002    0.081852\n",
       "1998    0.079267\n",
       "1997    0.065534\n",
       "1996    0.046662\n",
       "1995    0.042429\n",
       "1994    0.021327\n",
       "1993    0.014380\n",
       "1990    0.012764\n",
       "1992    0.012635\n",
       "1991    0.011504\n",
       "1989    0.005849\n",
       "1988    0.004589\n",
       "1985    0.003393\n",
       "1980    0.003134\n",
       "1986    0.002456\n",
       "1987    0.002424\n",
       "1983    0.001713\n",
       "1984    0.001713\n",
       "1978    0.001519\n",
       "1970    0.001454\n",
       "1982    0.001390\n",
       "1972    0.001131\n",
       "1979    0.001131\n",
       "1960    0.001099\n",
       "          ...   \n",
       "1966    0.000711\n",
       "1977    0.000711\n",
       "1975    0.000614\n",
       "1969    0.000614\n",
       "1965    0.000549\n",
       "1964    0.000388\n",
       "1963    0.000291\n",
       "1910    0.000291\n",
       "1959    0.000226\n",
       "1961    0.000194\n",
       "1956    0.000162\n",
       "1958    0.000129\n",
       "1962    0.000129\n",
       "1937    0.000129\n",
       "1950    0.000097\n",
       "1951    0.000065\n",
       "1941    0.000065\n",
       "1955    0.000065\n",
       "1957    0.000065\n",
       "1934    0.000065\n",
       "1954    0.000065\n",
       "1953    0.000032\n",
       "1943    0.000032\n",
       "1938    0.000032\n",
       "1939    0.000032\n",
       "1927    0.000032\n",
       "1929    0.000032\n",
       "1931    0.000032\n",
       "1948    0.000032\n",
       "1952    0.000032\n",
       "Name: registration_year, Length: 67, dtype: float64"
      ]
     },
     "execution_count": 13,
     "metadata": {},
     "output_type": "execute_result"
    }
   ],
   "source": [
    "autos = autos.loc[(autos[\"registration_year\"] > 1900) & (autos[\"registration_year\"] < 2006)]\n",
    "autos[\"registration_year\"].value_counts(normalize=True)"
   ]
  },
  {
   "cell_type": "markdown",
   "metadata": {
    "collapsed": true
   },
   "source": [
    "Most of cars were registered in the past 20 years."
   ]
  },
  {
   "cell_type": "code",
   "execution_count": 14,
   "metadata": {
    "collapsed": false
   },
   "outputs": [
    {
     "data": {
      "text/plain": [
       "Index(['volkswagen', 'opel', 'bmw', 'mercedes_benz', 'ford', 'audi',\n",
       "       'renault'],\n",
       "      dtype='object')"
      ]
     },
     "execution_count": 14,
     "metadata": {},
     "output_type": "execute_result"
    }
   ],
   "source": [
    "brand_counts = autos[\"brand\"].value_counts(normalize=True).head(7)\n",
    "brands = brand_counts.index\n",
    "brands"
   ]
  },
  {
   "cell_type": "markdown",
   "metadata": {},
   "source": [
    "We will explore the most popular cars."
   ]
  },
  {
   "cell_type": "code",
   "execution_count": 16,
   "metadata": {
    "collapsed": false
   },
   "outputs": [
    {
     "data": {
      "text/plain": [
       "{'audi': 3497,\n",
       " 'bmw': 4561,\n",
       " 'ford': 6754,\n",
       " 'mercedes_benz': 36700,\n",
       " 'opel': 4798,\n",
       " 'renault': 1335,\n",
       " 'volkswagen': 4445}"
      ]
     },
     "execution_count": 16,
     "metadata": {},
     "output_type": "execute_result"
    }
   ],
   "source": [
    "brand_mean_price = {}\n",
    "\n",
    "for b in brands:\n",
    "    selected_rows = autos[autos[\"brand\"] == b]\n",
    "    mean_price = selected_rows[\"price\"].mean()\n",
    "    brand_mean_price[b] = int(mean_price)\n",
    "    \n",
    "brand_mean_price"
   ]
  },
  {
   "cell_type": "markdown",
   "metadata": {
    "collapsed": true
   },
   "source": [
    "The most expensive brand is \"Mercedes Benz\".\n",
    "\n",
    "The cheapest brand is \"Renault\"."
   ]
  },
  {
   "cell_type": "markdown",
   "metadata": {},
   "source": [
    "### Brand info into DataFrame"
   ]
  },
  {
   "cell_type": "code",
   "execution_count": 18,
   "metadata": {
    "collapsed": false
   },
   "outputs": [
    {
     "data": {
      "text/html": [
       "<div>\n",
       "<style scoped>\n",
       "    .dataframe tbody tr th:only-of-type {\n",
       "        vertical-align: middle;\n",
       "    }\n",
       "\n",
       "    .dataframe tbody tr th {\n",
       "        vertical-align: top;\n",
       "    }\n",
       "\n",
       "    .dataframe thead th {\n",
       "        text-align: right;\n",
       "    }\n",
       "</style>\n",
       "<table border=\"1\" class=\"dataframe\">\n",
       "  <thead>\n",
       "    <tr style=\"text-align: right;\">\n",
       "      <th></th>\n",
       "      <th>mean_price</th>\n",
       "    </tr>\n",
       "  </thead>\n",
       "  <tbody>\n",
       "    <tr>\n",
       "      <th>audi</th>\n",
       "      <td>3497</td>\n",
       "    </tr>\n",
       "    <tr>\n",
       "      <th>bmw</th>\n",
       "      <td>4561</td>\n",
       "    </tr>\n",
       "    <tr>\n",
       "      <th>ford</th>\n",
       "      <td>6754</td>\n",
       "    </tr>\n",
       "    <tr>\n",
       "      <th>mercedes_benz</th>\n",
       "      <td>36700</td>\n",
       "    </tr>\n",
       "    <tr>\n",
       "      <th>opel</th>\n",
       "      <td>4798</td>\n",
       "    </tr>\n",
       "    <tr>\n",
       "      <th>renault</th>\n",
       "      <td>1335</td>\n",
       "    </tr>\n",
       "    <tr>\n",
       "      <th>volkswagen</th>\n",
       "      <td>4445</td>\n",
       "    </tr>\n",
       "  </tbody>\n",
       "</table>\n",
       "</div>"
      ],
      "text/plain": [
       "               mean_price\n",
       "audi                 3497\n",
       "bmw                  4561\n",
       "ford                 6754\n",
       "mercedes_benz       36700\n",
       "opel                 4798\n",
       "renault              1335\n",
       "volkswagen           4445"
      ]
     },
     "execution_count": 18,
     "metadata": {},
     "output_type": "execute_result"
    }
   ],
   "source": [
    "bmp_series = pd.Series(brand_mean_price)\n",
    "brand_info = pd.DataFrame(bmp_series, columns=['mean_price'])\n",
    "brand_info"
   ]
  },
  {
   "cell_type": "code",
   "execution_count": 21,
   "metadata": {
    "collapsed": false
   },
   "outputs": [
    {
     "data": {
      "text/plain": [
       "{'audi': 144415,\n",
       " 'bmw': 141977,\n",
       " 'ford': 132548,\n",
       " 'mercedes_benz': 139709,\n",
       " 'opel': 136660,\n",
       " 'renault': 136841,\n",
       " 'volkswagen': 139579}"
      ]
     },
     "execution_count": 21,
     "metadata": {},
     "output_type": "execute_result"
    }
   ],
   "source": [
    "brand_mean_mileage = {}\n",
    "\n",
    "for b in brands:\n",
    "    selected_rows = autos[autos[\"brand\"] == b]\n",
    "    mean_mileage = selected_rows[\"odometer_km\"].mean()\n",
    "    brand_mean_mileage[b] = int(mean_mileage)\n",
    "    \n",
    "brand_mean_mileage"
   ]
  },
  {
   "cell_type": "code",
   "execution_count": 24,
   "metadata": {
    "collapsed": false
   },
   "outputs": [
    {
     "data": {
      "text/html": [
       "<div>\n",
       "<style scoped>\n",
       "    .dataframe tbody tr th:only-of-type {\n",
       "        vertical-align: middle;\n",
       "    }\n",
       "\n",
       "    .dataframe tbody tr th {\n",
       "        vertical-align: top;\n",
       "    }\n",
       "\n",
       "    .dataframe thead th {\n",
       "        text-align: right;\n",
       "    }\n",
       "</style>\n",
       "<table border=\"1\" class=\"dataframe\">\n",
       "  <thead>\n",
       "    <tr style=\"text-align: right;\">\n",
       "      <th></th>\n",
       "      <th>mean_price</th>\n",
       "      <th>mean_mileage</th>\n",
       "    </tr>\n",
       "  </thead>\n",
       "  <tbody>\n",
       "    <tr>\n",
       "      <th>audi</th>\n",
       "      <td>3497</td>\n",
       "      <td>144415</td>\n",
       "    </tr>\n",
       "    <tr>\n",
       "      <th>bmw</th>\n",
       "      <td>4561</td>\n",
       "      <td>141977</td>\n",
       "    </tr>\n",
       "    <tr>\n",
       "      <th>ford</th>\n",
       "      <td>6754</td>\n",
       "      <td>132548</td>\n",
       "    </tr>\n",
       "    <tr>\n",
       "      <th>mercedes_benz</th>\n",
       "      <td>36700</td>\n",
       "      <td>139709</td>\n",
       "    </tr>\n",
       "    <tr>\n",
       "      <th>opel</th>\n",
       "      <td>4798</td>\n",
       "      <td>136660</td>\n",
       "    </tr>\n",
       "    <tr>\n",
       "      <th>renault</th>\n",
       "      <td>1335</td>\n",
       "      <td>136841</td>\n",
       "    </tr>\n",
       "    <tr>\n",
       "      <th>volkswagen</th>\n",
       "      <td>4445</td>\n",
       "      <td>139579</td>\n",
       "    </tr>\n",
       "  </tbody>\n",
       "</table>\n",
       "</div>"
      ],
      "text/plain": [
       "               mean_price  mean_mileage\n",
       "audi                 3497        144415\n",
       "bmw                  4561        141977\n",
       "ford                 6754        132548\n",
       "mercedes_benz       36700        139709\n",
       "opel                 4798        136660\n",
       "renault              1335        136841\n",
       "volkswagen           4445        139579"
      ]
     },
     "execution_count": 24,
     "metadata": {},
     "output_type": "execute_result"
    }
   ],
   "source": [
    "bmm_series = pd.Series(brand_mean_mileage)\n",
    "brand_info[\"mean_mileage\"] = bmm_series\n",
    "brand_info.sort_values(by=['mean_mileage'], ascending=False)\n",
    "brand_info"
   ]
  },
  {
   "cell_type": "markdown",
   "metadata": {},
   "source": [
    "There is a slight trend to the more expensive vehicles having higher mileage, with the less expensive vehicles having lower mileage."
   ]
  },
  {
   "cell_type": "code",
   "execution_count": null,
   "metadata": {
    "collapsed": true
   },
   "outputs": [],
   "source": []
  }
 ],
 "metadata": {
  "kernelspec": {
   "display_name": "Python 3",
   "language": "python",
   "name": "python3"
  },
  "language_info": {
   "codemirror_mode": {
    "name": "ipython",
    "version": 3
   },
   "file_extension": ".py",
   "mimetype": "text/x-python",
   "name": "python",
   "nbconvert_exporter": "python",
   "pygments_lexer": "ipython3",
   "version": "3.4.3"
  }
 },
 "nbformat": 4,
 "nbformat_minor": 2
}
